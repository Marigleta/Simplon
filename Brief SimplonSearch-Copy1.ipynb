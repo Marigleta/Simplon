{
 "cells": [
  {
   "cell_type": "markdown",
   "metadata": {},
   "source": [
    "mot= \"alphonse\"\n",
    "\n",
    "s= \"alphons et alponse sont de retour\"\n",
    "\n",
    "occurrences = \"alphons\", \"alponse\"\n"
   ]
  },
  {
   "cell_type": "code",
   "execution_count": 7,
   "metadata": {},
   "outputs": [],
   "source": [
    "def comb(mot):\n",
    "    combinaisons = []\n",
    "    for i in range(len(mot)):\n",
    "        combinaisons.append(mot[:i]+mot[i+1:])\n",
    "    return combinaisons"
   ]
  },
  {
   "cell_type": "code",
   "execution_count": 18,
   "metadata": {},
   "outputs": [],
   "source": [
    "def almost(mot, s):\n",
    "    occurrences = []\n",
    "    mots = s.split()\n",
    "    combinaisons = comb(mot)\n",
    "    for i in mots:\n",
    "        #mot trouvé:\n",
    "        if i in combinaisons:\n",
    "            occurrences.append(i)\n",
    "    return occurrences\n"
   ]
  },
  {
   "cell_type": "code",
   "execution_count": 19,
   "metadata": {},
   "outputs": [
    {
     "name": "stdout",
     "output_type": "stream",
     "text": [
      "['lphonse', 'aphonse', 'alhonse', 'alponse', 'alphnse', 'alphose', 'alphone', 'alphons']\n"
     ]
    }
   ],
   "source": [
    "if __name__ == \"__main__\":\n",
    "    s = \"alphons et alponse avec lphonse sont de retour\"\n",
    "    x = almost(\"alphonse\",s)\n",
    "combinaisons = comb(\"alphonse\") \n",
    "print(combinaisons)"
   ]
  },
  {
   "cell_type": "code",
   "execution_count": null,
   "metadata": {},
   "outputs": [],
   "source": [
    "import math\n",
    "\n",
    "def comb(mot):\n",
    "    combinaisons = []\n",
    "    for i in range(len(mot)):\n",
    "        combinaisons.append(mot[:i]+mot[i+1:])\n",
    "    return combinaisons\n",
    "\n",
    "def almost(mot, s):\n",
    "    occurrences = []\n",
    "    mots = s.split()\n",
    "    combinaisons = comb(mot)\n",
    "    for i in mots:\n",
    "        #mot trouvé:\n",
    "        if i in combinaisons:\n",
    "            occurrences.append(i)\n",
    "    return occurrences\n",
    "\n",
    "def lettre_ajoutee(mot, s):\n",
    "    occurrences = []\n",
    "    mots = s.split()\n",
    "    for i in mots:\n",
    "        #mot trouvé:\n",
    "        combinaisons = comb(i)\n",
    "        if mot in combinaisons:\n",
    "            occurrences.append(i)\n",
    "    return occurrences\n",
    "\n",
    "def lettre_remplacee(mot, s):\n",
    "    occurrences = []\n",
    "    mots = s.split()\n",
    "    combinaisons_mot = comb(mot)\n",
    "    for i in mots:\n",
    "        #mot trouvé:\n",
    "        combinaisons = comb(i)\n",
    "        for combi in combinaisons_mot:\n",
    "            if combi in combinaisons:\n",
    "                occurrences.append(i)\n",
    "                break\n",
    "    return occurrences\n",
    "\n",
    "def pluslarge(mot, s):\n",
    "    lett_enlevee = almost(mot,s)\n",
    "    lett_ajoutee = lettre_ajoutee(mot, s)\n",
    "    lett_remplacee = lettre_remplacee(mot, s)\n",
    "\n",
    "    return lett_enlevee + lett_ajoutee + lett_remplacee\n",
    "\n",
    "def sum(a,b):\n",
    "\tx = a+b\n",
    "\treturn x\n",
    "\n",
    "if __name__ == \"__main__\":\n",
    "    #s = \"alphons et alponse avec lphonse sont de retour\"\n",
    "    #x = almost(\"alphonse\",s)\n",
    "\n",
    "    #s = \"maman et manma avec amama sont de retour mam maa\"\n",
    "    #x = lettre_ajoutee(\"mama\",s)\n",
    "\n",
    "    s = \"maman manma mada et lama et mamb sont de retour et mam maa\"\n",
    "    x = pluslarge(\"mama\",s)\n",
    "\n",
    "    print(x)\n",
    "    #print(comb(\"hello\"))\n",
    "    #print(s)\n",
    "    #print(s.split())\n",
    "    #print(x)\n",
    "    #mot = \"alphonse\"\n",
    "    #print(mot)\n",
    "\n",
    "    #combinaisons = comb(\"alphonse\") \n",
    "    #print(combinaisons)"
   ]
  },
  {
   "cell_type": "code",
   "execution_count": 4,
   "metadata": {},
   "outputs": [
    {
     "name": "stdout",
     "output_type": "stream",
     "text": [
      "11\n"
     ]
    }
   ],
   "source": [
    "def score(p,s):\n",
    "    score = 0\n",
    "\n",
    "    s = s.replace(\",\",\"\")\n",
    "    s = s.replace(\".\",\"\")\n",
    "\n",
    "    p = p.replace(\",\",\"\")\n",
    "    p = p.replace(\".\",\"\")\n",
    "\n",
    "    p_liste = p.split()\n",
    "\n",
    "    for word in p_liste:\n",
    "        \n",
    "        \n",
    "        liste_found = pluslarge(word,s)\n",
    "\n",
    "        for words in liste_found:\n",
    "            if words == word:\n",
    "\n",
    "                score += 5\n",
    "            else:\n",
    "                score += 1\n",
    "    return score\n",
    "\n",
    "\n",
    "\n",
    "print(score(phrase,search))\n",
    "#print(score(mot,s))"
   ]
  },
  {
   "cell_type": "code",
   "execution_count": 5,
   "metadata": {},
   "outputs": [
    {
     "name": "stdout",
     "output_type": "stream",
     "text": [
      "20\n",
      "11\n"
     ]
    }
   ],
   "source": [
    "def score(p, s):\n",
    "    sc = 0\n",
    "    q = \" \"+sub(\"[,.]\",\"\", p)+\" \"\n",
    "    z = \" \" + sub(\"[,.]\",\"\", s)\n",
    "    for x in p.split():\n",
    "        sc += len(pluslarge(x, s))\n",
    "        sc += 4*z.count(\" \"+x+\" \")\n",
    "    return sc\n",
    "p=\"Le petit bonhomme en mousse\"\n",
    "t = \"Ce superbe matelas en mousse naturelle\"\n",
    "print(score(\"les trois gros\", s))\n",
    "print(score(p, t))"
   ]
  },
  {
   "cell_type": "code",
   "execution_count": null,
   "metadata": {},
   "outputs": [],
   "source": []
  }
 ],
 "metadata": {
  "kernelspec": {
   "display_name": "Python 3",
   "language": "python",
   "name": "python3"
  },
  "language_info": {
   "codemirror_mode": {
    "name": "ipython",
    "version": 3
   },
   "file_extension": ".py",
   "mimetype": "text/x-python",
   "name": "python",
   "nbconvert_exporter": "python",
   "pygments_lexer": "ipython3",
   "version": "3.8.5"
  }
 },
 "nbformat": 4,
 "nbformat_minor": 4
}
